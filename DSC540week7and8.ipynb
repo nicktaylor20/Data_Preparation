{
 "cells": [
  {
   "cell_type": "markdown",
   "metadata": {},
   "source": [
    "# Activity 9"
   ]
  },
  {
   "cell_type": "code",
   "execution_count": 14,
   "metadata": {},
   "outputs": [],
   "source": [
    "#Import libraries\n",
    "import urllib.request, urllib.parse, urllib.error\n",
    "import requests\n",
    "from bs4 import BeautifulSoup\n",
    "import ssl\n",
    "import re"
   ]
  },
  {
   "cell_type": "code",
   "execution_count": 2,
   "metadata": {},
   "outputs": [],
   "source": [
    "#Check SSL certificate \n",
    "ctx = ssl.create_default_context()\n",
    "ctx.check_hostname = False\n",
    "ctx.verify_mode = ssl.CERT_NONE"
   ]
  },
  {
   "cell_type": "code",
   "execution_count": 33,
   "metadata": {},
   "outputs": [],
   "source": [
    "#read the HTML from the URL\n",
    "url = 'https://www.gutenberg.org/browse/scores/top/ebooks'\n",
    "response = requests.get(url)"
   ]
  },
  {
   "cell_type": "code",
   "execution_count": 34,
   "metadata": {},
   "outputs": [],
   "source": [
    "#check web request\n",
    "def check_status(r):\n",
    "    if r.status_code==200:\n",
    "        print(\"Success!\")\n",
    "    else:\n",
    "        print(\"Fail!\")"
   ]
  },
  {
   "cell_type": "code",
   "execution_count": 35,
   "metadata": {},
   "outputs": [
    {
     "name": "stdout",
     "output_type": "stream",
     "text": [
      "Success!\n"
     ]
    }
   ],
   "source": [
    "check_status(response)"
   ]
  },
  {
   "cell_type": "code",
   "execution_count": 36,
   "metadata": {},
   "outputs": [],
   "source": [
    "#Decode the response and pass on to beautiful soup for HTML parsing\n",
    "contents= response.content.decode(response.encoding)\n"
   ]
  },
  {
   "cell_type": "code",
   "execution_count": 38,
   "metadata": {},
   "outputs": [],
   "source": [
    "soup = BeautifulSoup(contents, 'html.parser')"
   ]
  },
  {
   "cell_type": "code",
   "execution_count": 39,
   "metadata": {},
   "outputs": [],
   "source": [
    "#find all href tags and store them in the list of links\n",
    "lst_links=[]\n",
    "for link in soup.find_all('a'):\n",
    "    lst_links.append(link.get('href'))"
   ]
  },
  {
   "cell_type": "code",
   "execution_count": 40,
   "metadata": {},
   "outputs": [
    {
     "data": {
      "text/plain": [
       "['/',\n",
       " '/about/',\n",
       " '/about/',\n",
       " '/policy/collection_development.html',\n",
       " '/about/contact_information.html',\n",
       " '/about/background/',\n",
       " '/policy/permission.html',\n",
       " '/policy/privacy_policy.html',\n",
       " '/policy/terms_of_use.html',\n",
       " '/ebooks/',\n",
       " '/ebooks/',\n",
       " '/ebooks/bookshelf/',\n",
       " '/browse/scores/top',\n",
       " '/ebooks/offline_catalogs.html',\n",
       " '/help/',\n",
       " '/help/',\n",
       " '/help/copyright.html',\n",
       " '/help/errata.html',\n",
       " '/help/file_formats.html',\n",
       " '/help/faq.html',\n",
       " '/policy/',\n",
       " '/help/public_domain_ebook_submission.html',\n",
       " '/help/submitting_your_own_work.html',\n",
       " '/help/mobile.html',\n",
       " '/attic/',\n",
       " '/donate/',\n",
       " '/donate/',\n",
       " '#books-last1',\n",
       " '#authors-last1',\n",
       " '#books-last7']"
      ]
     },
     "execution_count": 40,
     "metadata": {},
     "output_type": "execute_result"
    }
   ],
   "source": [
    "lst_links[:30]"
   ]
  },
  {
   "cell_type": "code",
   "execution_count": 42,
   "metadata": {},
   "outputs": [],
   "source": [
    "#use a regular expression to find the numeric digits \n",
    "#initialize the empty list\n",
    "booknum=[]\n",
    "\n",
    "for i in range(19,119):\n",
    "    link=lst_links[i]\n",
    "    link=link.strip()\n",
    "    n=re.findall('[0-9]+',link)\n",
    "    if len(n)==1:\n",
    "        booknum.append(int(n[0]))"
   ]
  },
  {
   "cell_type": "code",
   "execution_count": 43,
   "metadata": {},
   "outputs": [
    {
     "name": "stdout",
     "output_type": "stream",
     "text": [
      "[1, 1, 7, 7, 30, 30, 1342, 11, 1661, 98, 2701, 65903, 84, 65901, 174, 65902, 64317, 2600, 65908, 4300, 345, 65900, 5200, 1232, 63256, 1952, 2554, 2591, 1260, 45, 6133, 65907, 27827, 47605, 65910, 74, 6130, 2542, 1400, 58585, 135, 5740, 16, 43, 205, 1184, 514, 29728, 65909, 996, 30254, 76, 244, 46, 1497, 65912, 55, 219, 36, 829, 2680, 768, 844, 1998, 28054, 902, 120, 5739, 158, 863, 32241, 236, 4980, 730, 2852, 1080, 65904, 1727, 1399, 25717, 4363, 766, 65896, 61085, 51233, 408, 33283, 25344, 61262, 26184, 161, 132]\n"
     ]
    }
   ],
   "source": [
    "#print (\"\\nThe file numbers for the top 100 ebooks on Gutenberg are shown below\\n\"+\"-\"*70)\n",
    "print(booknum)"
   ]
  },
  {
   "cell_type": "code",
   "execution_count": 44,
   "metadata": {},
   "outputs": [
    {
     "data": {
      "text/plain": [
       "\"\\n\\n\\n\\nTop 100 | Project Gutenberg\\n\\n\\n\\n\\n\\n\\n\\n\\n\\n\\n\\n\\n\\n\\n\\n\\n\\n\\n\\n\\n\\n\\n\\n\\n\\n\\n\\nMenu▾\\n\\n\\n\\nAbout\\n          ▾\\n\\n▾\\n\\n\\nAbout Project Gutenberg\\nCollection Development\\nContact Us\\nHistory & Philosophy\\nPermissions & License\\nPrivacy Policy\\nTerms of Use\\n\\n\\n\\nSearch and Browse\\n      \\t  ▾\\n\\n▾\\n\\n\\nBook Search\\nBookshelves\\nFrequently Downloaded\\nOffline Catalogs\\n\\n\\n\\nHelp\\n          ▾\\n\\n▾\\n\\n\\nAll help topics →\\nCopyright Procedures\\nErrata, Fixes and Bug Reports\\nFile Formats\\nFrequently Asked Questions\\nPolicies →\\nPublic Domain eBook Submission\\nSubmitting Your Own Work\\nTablets, Phones and eReaders\\nThe Attic →\\n\\n\\nDonate\\n\\n\\n\\n\\n\\n\\n\\n\\n\\n\\nDonation\\n\\n\\n\\n\\n\\n\\n\\nFrequently Viewed or Downloaded\\nThese listings are based on the number of times each eBook gets downloaded.\\n      Multiple downloads from the same Internet address on the same day count as one download, and addresses that download more than 100 eBooks in a day are considered robots and are not counted.\\n\\nDownloaded Books\\n2021-07-24120207\\nlast 7 days960349\\nlast 30 days4014840\\n\\n\\n\\nTop 100 EBooks yesterday\\nTop 100 Authors yesterday\\nTop 100 EBooks last 7 days\\nTop 100 Authors last 7 days\\nTop 100 EBooks last 30 days\\nTop 100 Authors last 30 days\\n\\n\\nTop 100 EBooks yesterday\\n\\nPride and Prejudice by Jane Austen (1406)\\nAlice's Adventures in Wonderland by Lewis Carroll (634)\\nThe Adventures of Sherlock Holmes by Arthur Conan Doyle (585)\\nA Tale of Two Cities by Charles Dickens (489)\\nMoby Dick; Or, The Whale by Herman Melville (480)\\nPsychology of the Unconscious by C. G.  Jung (478)\\nFrankenstein; Or, The Modern Prometheus by Mary Wollstonecraft Shelley (468)\\nHeart of the World by H. Rider  Haggard (446)\\nThe Picture of Dorian Gray by Oscar Wilde (408)\\nTomorrow the World! by Robert W. Krepps (400)\\nThe Great Gatsby by F. Scott  Fitzgerald (371)\\nWar and Peace by graf Leo Tolstoy (324)\\nIlluminated illustrations of Froissart by Jean Froissart (322)\\nUlysses by James Joyce (322)\\nDracula by Bram Stoker (318)\\nOver Fen and Wold by James John Hissey (316)\\nMetamorphosis by Franz Kafka (311)\\nThe Prince by Niccol\""
      ]
     },
     "execution_count": 44,
     "metadata": {},
     "output_type": "execute_result"
    }
   ],
   "source": [
    "#step 9\n",
    "soup.text[:2000]"
   ]
  },
  {
   "cell_type": "code",
   "execution_count": 45,
   "metadata": {},
   "outputs": [],
   "source": [
    "#step 10-13\n",
    "lst_titles_temp=[]\n",
    "start_idx=soup.text.splitlines().index('Top 100 EBooks yesterday')"
   ]
  },
  {
   "cell_type": "code",
   "execution_count": 46,
   "metadata": {},
   "outputs": [],
   "source": [
    "for i in range(100):\n",
    "    lst_titles_temp.append(soup.text.splitlines()[start_idx+2+i])"
   ]
  },
  {
   "cell_type": "code",
   "execution_count": 47,
   "metadata": {},
   "outputs": [],
   "source": [
    "lst_titles=[]\n",
    "for i in range(100):\n",
    "    id1,id2=re.match('^[a-zA-Z ]*',lst_titles_temp[i]).span()\n",
    "    lst_titles.append(lst_titles_temp[i][id1:id2])"
   ]
  },
  {
   "cell_type": "code",
   "execution_count": 48,
   "metadata": {},
   "outputs": [
    {
     "name": "stdout",
     "output_type": "stream",
     "text": [
      "Top \n",
      "Top \n",
      "Top \n",
      "Top \n",
      "\n",
      "\n",
      "Top \n",
      "\n",
      "Pride and Prejudice by Jane Austen \n",
      "Alice\n",
      "The Adventures of Sherlock Holmes by Arthur Conan Doyle \n",
      "A Tale of Two Cities by Charles Dickens \n",
      "Moby Dick\n",
      "Psychology of the Unconscious by C\n",
      "Frankenstein\n",
      "Heart of the World by H\n",
      "The Picture of Dorian Gray by Oscar Wilde \n",
      "Tomorrow the World\n",
      "The Great Gatsby by F\n",
      "War and Peace by graf Leo Tolstoy \n",
      "Illuminated illustrations of Froissart by Jean Froissart \n",
      "Ulysses by James Joyce \n",
      "Dracula by Bram Stoker \n",
      "Over Fen and Wold by James John Hissey \n",
      "Metamorphosis by Franz Kafka \n",
      "The Prince by Niccol\n",
      "The American Diary of a Japanese Girl by Yon\n",
      "The Yellow Wallpaper by Charlotte Perkins Gilman \n",
      "Crime and Punishment by Fyodor Dostoyevsky \n",
      "Grimms\n",
      "Jane Eyre\n",
      "Anne of Green Gables by L\n",
      "The Extraordinary Adventures of Arsene Lupin\n",
      "Wounded Souls by Philip Gibbs \n",
      "The Kama Sutra of Vatsyayana by Vatsyayana \n",
      "Proofs of a Conspiracy against all the Religions and Governments of Europe by John Robison \n",
      "Norse mythology\n",
      "The Adventures of Tom Sawyer\n",
      "The Iliad by Homer \n",
      "A Doll\n",
      "Great Expectations by Charles Dickens \n",
      "The Prophet by Kahlil Gibran \n",
      "Les Mis\n",
      "Tractatus Logico\n",
      "Peter Pan by J\n",
      "The Strange Case of Dr\n",
      "Walden\n",
      "The Count of Monte Cristo\n",
      "Little Women by Louisa May Alcott \n",
      "Cookery and Dining in Imperial Rome by Apicius \n",
      "A Smaller Dictionary of Greek and Roman Antiquities by William Smith \n",
      "Don Quixote by Miguel de Cervantes Saavedra \n",
      "The Romance of Lust\n",
      "Adventures of Huckleberry Finn by Mark Twain \n",
      "A Study in Scarlet by Arthur Conan Doyle \n",
      "A Christmas Carol in Prose\n",
      "The Republic by Plato \n",
      "\n",
      "The Wonderful Wizard of Oz by L\n",
      "Heart of Darkness by Joseph Conrad \n",
      "The War of the Worlds by H\n",
      "Gulliver\n",
      "Meditations by Emperor of Rome Marcus Aurelius \n",
      "Wuthering Heights by Emily Bront\n",
      "The Importance of Being Earnest\n",
      "Thus Spake Zarathustra\n",
      "The Brothers Karamazov by Fyodor Dostoyevsky \n",
      "The Happy Prince\n",
      "Treasure Island by Robert Louis Stevenson \n",
      "Korean\n",
      "Emma by Jane Austen \n",
      "The Mysterious Affair at Styles by Agatha Christie \n",
      "Dickens\n",
      "The Jungle Book by Rudyard Kipling \n",
      "Old Granny Fox by Thornton W\n",
      "Oliver Twist by Charles Dickens \n",
      "The Hound of the Baskervilles by Arthur Conan Doyle \n",
      "A Modest Proposal by Jonathan Swift \n",
      "Zoo mooi als zonneschijn\n",
      "The Odyssey by Homer \n",
      "Anna Karenina by graf Leo Tolstoy \n",
      "The History of the Decline and Fall of the Roman Empire by Edward Gibbon \n",
      "Beyond Good and Evil by Friedrich Wilhelm Nietzsche \n",
      "David Copperfield by Charles Dickens \n",
      "So Many Worlds Away\n",
      "In our time by Ernest Hemingway \n",
      "The Marching Morons by C\n",
      "The Souls of Black Folk by W\n",
      "Calculus Made Easy by Silvanus P\n",
      "The Scarlet Letter by Nathaniel Hawthorne \n",
      "Poirot Investigates by Agatha Christie \n",
      "Simple Sabotage Field Manual by United States\n",
      "Sense and Sensibility by Jane Austen \n",
      "The Art of War by active \n",
      "Wupatki Ruins Trail by Anonymous \n",
      "Beowulf\n",
      "Siddhartha by Hermann Hesse \n",
      "Essays of Michel de Montaigne \n",
      "An Index of The Divine Comedy by Dante by Dante Alighieri \n",
      "The Secret Garden by Frances Hodgson Burnett \n"
     ]
    }
   ],
   "source": [
    "for l in lst_titles:\n",
    "    print(l)"
   ]
  },
  {
   "cell_type": "markdown",
   "metadata": {},
   "source": [
    "# Activity 10"
   ]
  },
  {
   "cell_type": "code",
   "execution_count": 6,
   "metadata": {},
   "outputs": [],
   "source": [
    "#importing libraries \n",
    "import json"
   ]
  },
  {
   "cell_type": "code",
   "execution_count": 7,
   "metadata": {},
   "outputs": [],
   "source": [
    "#step2-4\n",
    "with open('APIkeys.json') as f:\n",
    "    keys = json.load(f)\n",
    "    omdbapi = keys['OMDBapi']"
   ]
  },
  {
   "cell_type": "code",
   "execution_count": 9,
   "metadata": {},
   "outputs": [],
   "source": [
    "#step 5-6\n",
    "serviceurl = 'http://www.omdbapi.com/?'\n",
    "apikey = '&apikey='+omdbapi"
   ]
  },
  {
   "cell_type": "code",
   "execution_count": 10,
   "metadata": {},
   "outputs": [],
   "source": [
    "#step7 \n",
    "def print_json(json_data):\n",
    "    list_keys=['Title', 'Year', 'Rated', 'Released', 'Runtime', 'Genre', 'Director', 'Writer', \n",
    "               'Actors', 'Plot', 'Language', 'Country', 'Awards', 'Ratings', \n",
    "               'Metascore', 'imdbRating', 'imdbVotes', 'imdbID']\n",
    "    print(\"-\"*50)\n",
    "    for k in list_keys:\n",
    "        if k in list(json_data.keys()):\n",
    "            print(f\"{k}: {json_data[k]}\")\n",
    "    print(\"-\"*50)"
   ]
  },
  {
   "cell_type": "code",
   "execution_count": 11,
   "metadata": {},
   "outputs": [],
   "source": [
    "#step 8\n",
    "def save_poster(json_data):\n",
    "    import os\n",
    "    title = json_data['Title']\n",
    "    poster_url = json_data['Poster']\n",
    "    # Splits the poster url by '.' and picks up the last string as file extension\n",
    "    poster_file_extension=poster_url.split('.')[-1]\n",
    "    # Reads the image file from web\n",
    "    poster_data = urllib.request.urlopen(poster_url).read()\n",
    "        \n",
    "    savelocation=os.getcwd()+'\\\\'+'Posters'+'\\\\'\n",
    "    # Creates new directory if the directory does not exist. Otherwise, just use the existing path.\n",
    "    if not os.path.isdir(savelocation):\n",
    "        os.mkdir(savelocation)\n",
    "    \n",
    "    filename=savelocation+str(title)+'.'+poster_file_extension\n",
    "    f=open(filename,'wb')\n",
    "    f.write(poster_data)\n",
    "    f.close()"
   ]
  },
  {
   "cell_type": "code",
   "execution_count": 12,
   "metadata": {},
   "outputs": [],
   "source": [
    "#step 9\n",
    "def search_movie(title):\n",
    "    try:\n",
    "        url = serviceurl + urllib.parse.urlencode({'t': str(title)})+apikey\n",
    "        print(f'Retrieving the data of \"{title}\" now... ')\n",
    "        print(url)\n",
    "        uh = urllib.request.urlopen(url)\n",
    "        data = uh.read()\n",
    "        json_data=json.loads(data)\n",
    "        \n",
    "        if json_data['Response']=='True':\n",
    "            print_json(json_data)\n",
    "            # Asks user whether to download the poster of the movie\n",
    "            if json_data['Poster']!='N/A':\n",
    "                save_poster(json_data)\n",
    "        else:\n",
    "            print(\"Error encountered: \",json_data['Error'])\n",
    "    \n",
    "    except urllib.error.URLError as e:\n",
    "        print(f\"ERROR: {e.reason}\")"
   ]
  },
  {
   "cell_type": "code",
   "execution_count": 15,
   "metadata": {},
   "outputs": [
    {
     "name": "stdout",
     "output_type": "stream",
     "text": [
      "Retrieving the data of \"Titanic\" now... \n",
      "http://www.omdbapi.com/?t=Titanic&apikey=98450dc3\n",
      "--------------------------------------------------\n",
      "Title: Titanic\n",
      "Year: 1997\n",
      "Rated: PG-13\n",
      "Released: 19 Dec 1997\n",
      "Runtime: 194 min\n",
      "Genre: Drama, Romance\n",
      "Director: James Cameron\n",
      "Writer: James Cameron\n",
      "Actors: Leonardo DiCaprio, Kate Winslet, Billy Zane\n",
      "Plot: A seventeen-year-old aristocrat falls in love with a kind but poor artist aboard the luxurious, ill-fated R.M.S. Titanic.\n",
      "Language: English, Swedish, Italian, French\n",
      "Country: United States, Mexico, Australia\n",
      "Awards: Won 11 Oscars. 125 wins & 83 nominations total\n",
      "Ratings: [{'Source': 'Internet Movie Database', 'Value': '7.8/10'}, {'Source': 'Rotten Tomatoes', 'Value': '89%'}, {'Source': 'Metacritic', 'Value': '75/100'}]\n",
      "Metascore: 75\n",
      "imdbRating: 7.8\n",
      "imdbVotes: 1,079,408\n",
      "imdbID: tt0120338\n",
      "--------------------------------------------------\n"
     ]
    }
   ],
   "source": [
    "#step10\n",
    "search_movie(\"Titanic\")"
   ]
  },
  {
   "cell_type": "code",
   "execution_count": 16,
   "metadata": {},
   "outputs": [
    {
     "name": "stdout",
     "output_type": "stream",
     "text": [
      "Retrieving the data of \"Random_error\" now... \n",
      "http://www.omdbapi.com/?t=Random_error&apikey=98450dc3\n",
      "Error encountered:  Movie not found!\n"
     ]
    }
   ],
   "source": [
    "#step 11\n",
    "search_movie(\"Random_error\")"
   ]
  },
  {
   "cell_type": "markdown",
   "metadata": {},
   "source": [
    "# Connect to the Twitter API and do a simple data pull"
   ]
  },
  {
   "cell_type": "code",
   "execution_count": 11,
   "metadata": {},
   "outputs": [
    {
     "name": "stdout",
     "output_type": "stream",
     "text": [
      "Collecting tweepy\n",
      "  Downloading tweepy-3.10.0-py2.py3-none-any.whl (30 kB)\n",
      "Requirement already satisfied: requests-oauthlib>=0.7.0 in c:\\users\\nickm\\anaconda3\\lib\\site-packages (from tweepy) (1.3.0)\n",
      "Requirement already satisfied: six>=1.10.0 in c:\\users\\nickm\\anaconda3\\lib\\site-packages (from tweepy) (1.15.0)\n",
      "Requirement already satisfied: requests[socks]>=2.11.1 in c:\\users\\nickm\\anaconda3\\lib\\site-packages (from tweepy) (2.24.0)\n",
      "Requirement already satisfied: oauthlib>=3.0.0 in c:\\users\\nickm\\anaconda3\\lib\\site-packages (from requests-oauthlib>=0.7.0->tweepy) (3.1.1)\n",
      "Requirement already satisfied: urllib3!=1.25.0,!=1.25.1,<1.26,>=1.21.1 in c:\\users\\nickm\\anaconda3\\lib\\site-packages (from requests[socks]>=2.11.1->tweepy) (1.25.11)\n",
      "Requirement already satisfied: chardet<4,>=3.0.2 in c:\\users\\nickm\\anaconda3\\lib\\site-packages (from requests[socks]>=2.11.1->tweepy) (3.0.4)\n",
      "Requirement already satisfied: idna<3,>=2.5 in c:\\users\\nickm\\anaconda3\\lib\\site-packages (from requests[socks]>=2.11.1->tweepy) (2.10)\n",
      "Requirement already satisfied: certifi>=2017.4.17 in c:\\users\\nickm\\anaconda3\\lib\\site-packages (from requests[socks]>=2.11.1->tweepy) (2020.6.20)\n",
      "Requirement already satisfied: PySocks!=1.5.7,>=1.5.6; extra == \"socks\" in c:\\users\\nickm\\anaconda3\\lib\\site-packages (from requests[socks]>=2.11.1->tweepy) (1.7.1)\n",
      "Installing collected packages: tweepy\n",
      "Successfully installed tweepy-3.10.0\n",
      "Note: you may need to restart the kernel to use updated packages.\n"
     ]
    }
   ],
   "source": [
    "pip install tweepy"
   ]
  },
  {
   "cell_type": "code",
   "execution_count": 1,
   "metadata": {},
   "outputs": [],
   "source": [
    "import tweepy\n",
    "import requests\n",
    "import json"
   ]
  },
  {
   "cell_type": "code",
   "execution_count": 2,
   "metadata": {},
   "outputs": [],
   "source": [
    "consumer_key='RN7Wy2OnAQqTmYZZNGNvtWXTM'  \n",
    "consumer_secret='zeD3RAywPNeKdmXETDjAx9g7zvb5Et6pdBksoj4zYDOYTVbyWH'\n",
    "bearer_token='AAAAAAAAAAAAAAAAAAAAAJeHSAEAAAAAHPJ7TrEL8P%2Ff3%2BJqKQauIPw98YE%3DLBBvsrUtVVRxgxnQBP0lyoQ1HGmOymBsGcVHJuH2acpZqPTNz4'"
   ]
  },
  {
   "cell_type": "code",
   "execution_count": 17,
   "metadata": {},
   "outputs": [
    {
     "name": "stdout",
     "output_type": "stream",
     "text": [
      "RT @INFJLOVE: Science comes w/factual data &amp; information based upon a magnitude of studies but where’s the information, where’s the studies…\n",
      "RT @CoolerData: Financial firms should leverage machine learning to make anomaly detection easier https://t.co/UooGKWNm0A #GetMoreInsights…\n",
      "#ai #ml #tech #data #technology #IoT #5G #robot #science #innovation #cloud #business #news #future\n",
      "Financial firms… https://t.co/WQLM2gHSw2\n",
      "@kimusan Contact the #EVL researchers who did GP4D to find out what vis techniques worked &amp; which to avoid: Dan… https://t.co/CDyb3SsAxl\n",
      "RT @CoolerData: Financial firms should leverage machine learning to make anomaly detection easier https://t.co/UooGKWNm0A #GetMoreInsights…\n",
      "RT @CoolerData: Financial firms should leverage machine learning to make anomaly detection easier https://t.co/UooGKWNm0A #GetMoreInsights…\n",
      "RT @Doxyaxone: More #DataScience Cheatsheets. #Python #BigData #Analytics #AI #IoT #IIoT #Azure #PyTorch #RStats #DotNet #C #CPP #Java #CSh…\n",
      "RT @DJDeMario1: Hmmm . . . so you're saying the Covid vaccines do not protect against getting Covid\n",
      "\n",
      "About those vaccine mandates . . . how…\n",
      "https://t.co/o0OvkzHdNR\n",
      "RT @PhilipWatson_: New Report Now Live:\n",
      "\n",
      "\"FOI Reveals The Closure of Close-Contact Services in Northern Ireland Was Not Based Upon Science\"…\n",
      "Don't you like how common sense is to be disbelieved in  favor of appealing to the #SciencePerspective? Yet the app… https://t.co/STsGJGuKc2\n",
      "Court Rules Gavin Newsom's 2020 COVID Order Was Unconstitutional, Governor Insists He Was Guided by 'Science and Da… https://t.co/8LuHRLQxch\n",
      "RT @PhilHollowayEsq: Let this sink in. All that new @CDCgov @CDCDirector #Fauci #mask \"guidance\" and new \"the science\" from \"the experts\" y…\n",
      "RT @PhilHollowayEsq: Let this sink in. All that new @CDCgov @CDCDirector #Fauci #mask \"guidance\" and new \"the science\" from \"the experts\" y…\n",
      "RT @VapinGreek: The world harm organization back at it again with false misleading propaganda not supported by science or data. \n",
      "Quit smoki…\n",
      "@GovGianforte The cool thing about science is that it changes based on the data. You probably wouldn’t understand t… https://t.co/CDfaUg78Uq\n",
      "@DrSeaPerle @ZachariaKing28 @MLevitt_NP2013 @Stanford @StanfordMed I've done plenty of work &amp; understand that there… https://t.co/IoX3HFrNbf\n",
      "RT @PhilHollowayEsq: Let this sink in. All that new @CDCgov @CDCDirector #Fauci #mask \"guidance\" and new \"the science\" from \"the experts\" y…\n",
      "@jadenkyleftw @S2P3P @apoorva_nyc truly how science works - new virus must learn and adopt to new data. Its called… https://t.co/4M5UUxLqyF\n",
      "RT @EthanBearman: Mr. Hillbilly Elegy is of course wrong, the CDC makes decisions based on science, which is ever changing based on new dat…\n"
     ]
    }
   ],
   "source": [
    "auth = tweepy.AppAuthHandler(consumer_key, consumer_secret)\n",
    "#auth.set_access_token(bearer_token, bearer_token)\n",
    "\n",
    "api = tweepy.API(auth)\n",
    "#api = tweepy.API(auth)\n",
    "for tweet in tweepy.Cursor(api.search_30_day,environment_name='prod', query='Data Science', ).items(20):\n",
    "    print(tweet.text)"
   ]
  },
  {
   "cell_type": "code",
   "execution_count": 18,
   "metadata": {},
   "outputs": [
    {
     "name": "stdout",
     "output_type": "stream",
     "text": [
      "RT @ThunderFilmRoom: I’m treating this year’s summer league like an NBA Finals run.\n",
      "\n",
      "it’ll be better than 2012 lol. https://t.co/sH2bO2qkov\n",
      "RT @NFL_Memes: The last time the Bucks won an NBA championship, the Cowboys won the next Super Bowl. The last time the Suns lost in the NBA…\n",
      "RT @ThunderFilmRoom: I’m treating this year’s summer league like an NBA Finals run.\n",
      "\n",
      "it’ll be better than 2012 lol.\n",
      "RT @MattWalshBlog: Michael Jordan Leaves Game 7 Of The NBA Finals To Focus On Mental Health\n",
      "RT @rohamg: This is a big one: the @nbatopshot #NBAFinals legendary drop 🏆  is TOMORROW. https://t.co/EYrPobwGNZ\n",
      "\n",
      "To celebrate this 🔥 #NBA…\n",
      "@USAGym If this was Michael Jordan or LeBron James, quitting on their teams during the NBA finals due to mental iss… https://t.co/bWBroCwkh0\n",
      "RT @rohamg: This is a big one: the @nbatopshot #NBAFinals legendary drop 🏆  is TOMORROW. https://t.co/EYrPobwGNZ\n",
      "\n",
      "To celebrate this 🔥 #NBA…\n",
      "I’m treating this year’s summer league like an NBA Finals run.\n",
      "\n",
      "it’ll be better than 2012 lol. https://t.co/sH2bO2qkov\n",
      "@CDCDirector Millions of Americans attended packed events without wearing a mask. Music events, NBA finals celebrat… https://t.co/Dt7vM45ro0\n",
      "RT @rohamg: This is a big one: the @nbatopshot #NBAFinals legendary drop 🏆  is TOMORROW. https://t.co/EYrPobwGNZ\n",
      "\n",
      "To celebrate this 🔥 #NBA…\n",
      "RT @rohamg: This is a big one: the @nbatopshot #NBAFinals legendary drop 🏆  is TOMORROW. https://t.co/EYrPobwGNZ\n",
      "\n",
      "To celebrate this 🔥 #NBA…\n",
      "@dianeyentel @POTUS @CDCDirector Millions of Americans attended packed events without wearing a mask. Music events,… https://t.co/QeyFhfUB5Z\n",
      "@____J_J______ @POTUS @VP @praline5687 Millions of Americans attended packed events without wearing a mask. Music e… https://t.co/dHyEV1D7f5\n",
      "RT @MattWalshBlog: Michael Jordan Leaves Game 7 Of The NBA Finals To Focus On Mental Health\n",
      "RT @rohamg: This is a big one: the @nbatopshot #NBAFinals legendary drop 🏆  is TOMORROW. https://t.co/EYrPobwGNZ\n",
      "\n",
      "To celebrate this 🔥 #NBA…\n",
      "RT @rohamg: This is a big one: the @nbatopshot #NBAFinals legendary drop 🏆  is TOMORROW. https://t.co/EYrPobwGNZ\n",
      "\n",
      "To celebrate this 🔥 #NBA…\n",
      "RT @rohamg: This is a big one: the @nbatopshot #NBAFinals legendary drop 🏆  is TOMORROW. https://t.co/EYrPobwGNZ\n",
      "\n",
      "To celebrate this 🔥 #NBA…\n",
      "RT @rohamg: This is a big one: the @nbatopshot #NBAFinals legendary drop 🏆  is TOMORROW. https://t.co/EYrPobwGNZ\n",
      "\n",
      "To celebrate this 🔥 #NBA…\n",
      "RT @rohamg: This is a big one: the @nbatopshot #NBAFinals legendary drop 🏆  is TOMORROW. https://t.co/EYrPobwGNZ\n",
      "\n",
      "To celebrate this 🔥 #NBA…\n",
      "RT @MattWalshBlog: Michael Jordan Leaves Game 7 Of The NBA Finals To Focus On Mental Health\n"
     ]
    }
   ],
   "source": [
    "for tweet in tweepy.Cursor(api.search_30_day,environment_name='prod', query='NBA Finals', ).items(20):\n",
    "    print(tweet.text)"
   ]
  },
  {
   "cell_type": "markdown",
   "metadata": {},
   "source": [
    "# visualizations"
   ]
  },
  {
   "cell_type": "code",
   "execution_count": 20,
   "metadata": {},
   "outputs": [],
   "source": [
    "import pandas as pd\n",
    "import matplotlib.pyplot as plt\n",
    "%matplotlib inline"
   ]
  },
  {
   "cell_type": "code",
   "execution_count": 21,
   "metadata": {},
   "outputs": [],
   "source": [
    "df= pd.read_csv(r'C:\\Users\\nickm\\Documents\\train.csv')"
   ]
  },
  {
   "cell_type": "code",
   "execution_count": 22,
   "metadata": {},
   "outputs": [
    {
     "data": {
      "text/html": [
       "<div>\n",
       "<style scoped>\n",
       "    .dataframe tbody tr th:only-of-type {\n",
       "        vertical-align: middle;\n",
       "    }\n",
       "\n",
       "    .dataframe tbody tr th {\n",
       "        vertical-align: top;\n",
       "    }\n",
       "\n",
       "    .dataframe thead th {\n",
       "        text-align: right;\n",
       "    }\n",
       "</style>\n",
       "<table border=\"1\" class=\"dataframe\">\n",
       "  <thead>\n",
       "    <tr style=\"text-align: right;\">\n",
       "      <th></th>\n",
       "      <th>PassengerId</th>\n",
       "      <th>Survived</th>\n",
       "      <th>Pclass</th>\n",
       "      <th>Name</th>\n",
       "      <th>Sex</th>\n",
       "      <th>Age</th>\n",
       "      <th>SibSp</th>\n",
       "      <th>Parch</th>\n",
       "      <th>Ticket</th>\n",
       "      <th>Fare</th>\n",
       "      <th>Cabin</th>\n",
       "      <th>Embarked</th>\n",
       "    </tr>\n",
       "  </thead>\n",
       "  <tbody>\n",
       "    <tr>\n",
       "      <th>0</th>\n",
       "      <td>1</td>\n",
       "      <td>0</td>\n",
       "      <td>3</td>\n",
       "      <td>Braund, Mr. Owen Harris</td>\n",
       "      <td>male</td>\n",
       "      <td>22.0</td>\n",
       "      <td>1</td>\n",
       "      <td>0</td>\n",
       "      <td>A/5 21171</td>\n",
       "      <td>7.2500</td>\n",
       "      <td>NaN</td>\n",
       "      <td>S</td>\n",
       "    </tr>\n",
       "    <tr>\n",
       "      <th>1</th>\n",
       "      <td>2</td>\n",
       "      <td>1</td>\n",
       "      <td>1</td>\n",
       "      <td>Cumings, Mrs. John Bradley (Florence Briggs Th...</td>\n",
       "      <td>female</td>\n",
       "      <td>38.0</td>\n",
       "      <td>1</td>\n",
       "      <td>0</td>\n",
       "      <td>PC 17599</td>\n",
       "      <td>71.2833</td>\n",
       "      <td>C85</td>\n",
       "      <td>C</td>\n",
       "    </tr>\n",
       "    <tr>\n",
       "      <th>2</th>\n",
       "      <td>3</td>\n",
       "      <td>1</td>\n",
       "      <td>3</td>\n",
       "      <td>Heikkinen, Miss. Laina</td>\n",
       "      <td>female</td>\n",
       "      <td>26.0</td>\n",
       "      <td>0</td>\n",
       "      <td>0</td>\n",
       "      <td>STON/O2. 3101282</td>\n",
       "      <td>7.9250</td>\n",
       "      <td>NaN</td>\n",
       "      <td>S</td>\n",
       "    </tr>\n",
       "    <tr>\n",
       "      <th>3</th>\n",
       "      <td>4</td>\n",
       "      <td>1</td>\n",
       "      <td>1</td>\n",
       "      <td>Futrelle, Mrs. Jacques Heath (Lily May Peel)</td>\n",
       "      <td>female</td>\n",
       "      <td>35.0</td>\n",
       "      <td>1</td>\n",
       "      <td>0</td>\n",
       "      <td>113803</td>\n",
       "      <td>53.1000</td>\n",
       "      <td>C123</td>\n",
       "      <td>S</td>\n",
       "    </tr>\n",
       "    <tr>\n",
       "      <th>4</th>\n",
       "      <td>5</td>\n",
       "      <td>0</td>\n",
       "      <td>3</td>\n",
       "      <td>Allen, Mr. William Henry</td>\n",
       "      <td>male</td>\n",
       "      <td>35.0</td>\n",
       "      <td>0</td>\n",
       "      <td>0</td>\n",
       "      <td>373450</td>\n",
       "      <td>8.0500</td>\n",
       "      <td>NaN</td>\n",
       "      <td>S</td>\n",
       "    </tr>\n",
       "  </tbody>\n",
       "</table>\n",
       "</div>"
      ],
      "text/plain": [
       "   PassengerId  Survived  Pclass  \\\n",
       "0            1         0       3   \n",
       "1            2         1       1   \n",
       "2            3         1       3   \n",
       "3            4         1       1   \n",
       "4            5         0       3   \n",
       "\n",
       "                                                Name     Sex   Age  SibSp  \\\n",
       "0                            Braund, Mr. Owen Harris    male  22.0      1   \n",
       "1  Cumings, Mrs. John Bradley (Florence Briggs Th...  female  38.0      1   \n",
       "2                             Heikkinen, Miss. Laina  female  26.0      0   \n",
       "3       Futrelle, Mrs. Jacques Heath (Lily May Peel)  female  35.0      1   \n",
       "4                           Allen, Mr. William Henry    male  35.0      0   \n",
       "\n",
       "   Parch            Ticket     Fare Cabin Embarked  \n",
       "0      0         A/5 21171   7.2500   NaN        S  \n",
       "1      0          PC 17599  71.2833   C85        C  \n",
       "2      0  STON/O2. 3101282   7.9250   NaN        S  \n",
       "3      0            113803  53.1000  C123        S  \n",
       "4      0            373450   8.0500   NaN        S  "
      ]
     },
     "execution_count": 22,
     "metadata": {},
     "output_type": "execute_result"
    }
   ],
   "source": [
    "df.head()"
   ]
  },
  {
   "cell_type": "code",
   "execution_count": 73,
   "metadata": {},
   "outputs": [],
   "source": [
    "# set up the figure size\n",
    "plt.rcParams['figure.figsize'] = (20, 10)"
   ]
  },
  {
   "cell_type": "code",
   "execution_count": 74,
   "metadata": {},
   "outputs": [],
   "source": [
    "X_survived = df.groupby('Survived').size().reset_index(name='Counts')['Survived']\n",
    "Y_survived = df.groupby('Survived').size().reset_index(name='Counts')['Counts']"
   ]
  },
  {
   "cell_type": "code",
   "execution_count": 80,
   "metadata": {
    "scrolled": true
   },
   "outputs": [
    {
     "data": {
      "image/png": "[encoded data removed]",
      "text/plain": [
       "<Figure size 1440x720 with 1 Axes>"
      ]
     },
     "metadata": {
      "needs_background": "light"
     },
     "output_type": "display_data"
    }
   ],
   "source": [
    "plt.bar(X_survived, Y_survived)\n",
    "plt.title('Titanic Survival Count', fontsize=15)\n",
    "plt.ylabel('Counts', fontsize=15)\n",
    "plt.xticks([0, 1], ['Not Survived', 'Survived'])\n",
    "plt.tick_params(axis='both', labelsize=15)\n",
    "plt.show()"
   ]
  },
  {
   "cell_type": "code",
   "execution_count": 76,
   "metadata": {
    "scrolled": true
   },
   "outputs": [
    {
     "data": {
      "image/png": "[encoded data removed]",
      "text/plain": [
       "<Figure size 1440x720 with 1 Axes>"
      ]
     },
     "metadata": {
      "needs_background": "light"
     },
     "output_type": "display_data"
    }
   ],
   "source": [
    "ypoints = df.Fare\n",
    "\n",
    "plt.plot(ypoints, color = 'r')\n",
    "plt.ylabel('Fare Price', fontsize=15)\n",
    "plt.title('Titanic Fare Prices', fontsize=15)\n",
    "plt.xticks([])\n",
    "plt.tick_params(axis='y', labelsize=15)\n",
    "\n",
    "plt.show()"
   ]
  },
  {
   "cell_type": "code",
   "execution_count": 77,
   "metadata": {},
   "outputs": [
    {
     "data": {
      "image/png": "[encoded data removed]",
      "text/plain": [
       "<Figure size 1440x720 with 1 Axes>"
      ]
     },
     "metadata": {},
     "output_type": "display_data"
    }
   ],
   "source": [
    "\n",
    "y= df.groupby('Pclass').size().reset_index(name='Counts')['Pclass']\n",
    "mylabels = ['First', 'Second','Third']\n",
    "myexplode = [0.2, 0, 0]\n",
    "#plt.pie(y, labels = mylabels)\n",
    "plt.pie(y, labels = mylabels, explode = myexplode, shadow = True, autopct='%1.1f%%') \n",
    "\n",
    "plt.legend()\n",
    "plt.show() "
   ]
  },
  {
   "cell_type": "code",
   "execution_count": null,
   "metadata": {},
   "outputs": [],
   "source": []
  }
 ],
 "metadata": {
  "kernelspec": {
   "display_name": "Python 3",
   "language": "python",
   "name": "python3"
  },
  "language_info": {
   "codemirror_mode": {
    "name": "ipython",
    "version": 3
   },
   "file_extension": ".py",
   "mimetype": "text/x-python",
   "name": "python",
   "nbconvert_exporter": "python",
   "pygments_lexer": "ipython3",
   "version": "3.8.5"
  }
 },
 "nbformat": 4,
 "nbformat_minor": 4
}
