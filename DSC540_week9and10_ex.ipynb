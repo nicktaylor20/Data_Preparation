{
 "cells": [
  {
   "cell_type": "markdown",
   "metadata": {},
   "source": [
    "# Activity 11"
   ]
  },
  {
   "cell_type": "code",
   "execution_count": 1,
   "metadata": {},
   "outputs": [],
   "source": [
    "import sqlite3"
   ]
  },
  {
   "cell_type": "markdown",
   "metadata": {},
   "source": [
    "Step 1. Connect to petsDB and check coonection"
   ]
  },
  {
   "cell_type": "code",
   "execution_count": 12,
   "metadata": {},
   "outputs": [],
   "source": [
    "#Establish connection to petsdb\n",
    "conn = sqlite3.connect(r\"\\Users\\nickm\\Documents\\GitHub\\Lesson08\\Activity11\\petsdb\")"
   ]
  },
  {
   "cell_type": "code",
   "execution_count": 16,
   "metadata": {},
   "outputs": [
    {
     "data": {
      "text/plain": [
       "<sqlite3.Cursor at 0x2522caee030>"
      ]
     },
     "execution_count": 16,
     "metadata": {},
     "output_type": "execute_result"
    }
   ],
   "source": [
    "#Checking connection by selecting 1 row\n",
    "conn.execute(\"SELECT * FROM pets LIMIT 1\")"
   ]
  },
  {
   "cell_type": "code",
   "execution_count": 17,
   "metadata": {},
   "outputs": [
    {
     "name": "stdout",
     "output_type": "stream",
     "text": [
      "(1, 'Erica', None, 22, 'south port', 2345678)\n",
      "(2, 'Jordi', None, 73, 'east port', 123456)\n",
      "(3, 'Chasity', None, 70, 'new port', 76856785)\n",
      "(4, 'Gregg', None, 31, 'new port', 76856785)\n",
      "(5, 'Tony', 'Lindgren', 7, 'west port', 2345678)\n",
      "(6, 'Cary', None, 73, 'new port', 76856785)\n",
      "(7, 'Gabe', 'Thompson', 54, 'new port', 9756543)\n",
      "(8, 'Francisca', None, 14, 'west port', 123456)\n",
      "(9, 'Katelyn', 'Torphy', 49, 'east port', 9756543)\n",
      "(10, 'Raleigh', None, 68, 'new port', 2345678)\n"
     ]
    }
   ],
   "source": [
    "#checking connection of the persons table by retrieving data\n",
    "cursor = conn.cursor()\n",
    "rows = cursor.execute('SELECT * FROM persons LIMIT 10')\n",
    "for row in rows:\n",
    "    print(row)"
   ]
  },
  {
   "cell_type": "markdown",
   "metadata": {},
   "source": [
    "Step 2 Find the different age groups in the persons table"
   ]
  },
  {
   "cell_type": "code",
   "execution_count": 18,
   "metadata": {},
   "outputs": [
    {
     "name": "stdout",
     "output_type": "stream",
     "text": [
      "(2, 5)\n",
      "(1, 6)\n",
      "(1, 7)\n",
      "(3, 8)\n",
      "(1, 9)\n",
      "(2, 11)\n",
      "(3, 12)\n",
      "(1, 13)\n",
      "(4, 14)\n",
      "(2, 16)\n",
      "(2, 17)\n",
      "(3, 18)\n",
      "(1, 19)\n",
      "(3, 22)\n",
      "(2, 23)\n",
      "(3, 24)\n",
      "(2, 25)\n",
      "(1, 27)\n",
      "(1, 30)\n",
      "(3, 31)\n",
      "(1, 32)\n",
      "(1, 33)\n",
      "(2, 34)\n",
      "(3, 35)\n",
      "(3, 36)\n",
      "(1, 37)\n",
      "(2, 39)\n",
      "(1, 40)\n",
      "(1, 42)\n",
      "(2, 44)\n",
      "(2, 48)\n",
      "(1, 49)\n",
      "(1, 50)\n",
      "(2, 51)\n",
      "(2, 52)\n",
      "(2, 53)\n",
      "(2, 54)\n",
      "(1, 58)\n",
      "(1, 59)\n",
      "(1, 60)\n",
      "(1, 61)\n",
      "(2, 62)\n",
      "(1, 63)\n",
      "(2, 65)\n",
      "(2, 66)\n",
      "(1, 67)\n",
      "(3, 68)\n",
      "(1, 69)\n",
      "(1, 70)\n",
      "(4, 71)\n",
      "(1, 72)\n",
      "(5, 73)\n",
      "(3, 74)\n"
     ]
    }
   ],
   "source": [
    "rows = cursor.execute('SELECT COUNT(*), age FROM persons GROUP BY age')\n",
    "for row in rows:\n",
    "    print(row)"
   ]
  },
  {
   "cell_type": "markdown",
   "metadata": {},
   "source": [
    "Step 3. Find the age group that has the maximum number of people"
   ]
  },
  {
   "cell_type": "code",
   "execution_count": 19,
   "metadata": {},
   "outputs": [
    {
     "name": "stdout",
     "output_type": "stream",
     "text": [
      "(5, 73)\n"
     ]
    }
   ],
   "source": [
    "rows = cursor.execute('SELECT COUNT(*), age FROM persons GROUP BY age ORDER BY COUNT(*) DESC LIMIT 1')\n",
    "for row in rows:\n",
    "    print(row)"
   ]
  },
  {
   "cell_type": "markdown",
   "metadata": {},
   "source": [
    "Step 4. Find the people that do not have a last name"
   ]
  },
  {
   "cell_type": "code",
   "execution_count": 20,
   "metadata": {},
   "outputs": [
    {
     "name": "stdout",
     "output_type": "stream",
     "text": [
      "(60,)\n"
     ]
    }
   ],
   "source": [
    "rows = cursor.execute(\"SELECT count(*) FROM persons WHERE last_name IS null\")\n",
    "for row in rows:\n",
    "    print(row)"
   ]
  },
  {
   "cell_type": "markdown",
   "metadata": {},
   "source": [
    "Step 5. Find how many people have more than 1 pet"
   ]
  },
  {
   "cell_type": "code",
   "execution_count": 21,
   "metadata": {},
   "outputs": [
    {
     "name": "stdout",
     "output_type": "stream",
     "text": [
      "(43,)\n"
     ]
    }
   ],
   "source": [
    "rows = cursor.execute(\"SELECT count(*) FROM (SELECT count(owner_id) FROM pets GROUP BY owner_id HAVING count(owner_id) >1)\")\n",
    "for row in rows:\n",
    "    print(row)"
   ]
  },
  {
   "cell_type": "markdown",
   "metadata": {},
   "source": [
    "Step 6. How many pets have received treatment"
   ]
  },
  {
   "cell_type": "code",
   "execution_count": 23,
   "metadata": {},
   "outputs": [
    {
     "name": "stdout",
     "output_type": "stream",
     "text": [
      "(36,)\n"
     ]
    }
   ],
   "source": [
    "rows = cursor.execute(\"SELECT count(*) FROM pets WHERE treatment_done=1\")\n",
    "for row in rows:\n",
    "    print(row)"
   ]
  },
  {
   "cell_type": "markdown",
   "metadata": {},
   "source": [
    "Step 7. How many pets have received treatment and the type of pet"
   ]
  },
  {
   "cell_type": "code",
   "execution_count": 24,
   "metadata": {},
   "outputs": [
    {
     "name": "stdout",
     "output_type": "stream",
     "text": [
      "(16,)\n"
     ]
    }
   ],
   "source": [
    "rows = cursor.execute(\"SELECT count(*) FROM pets WHERE treatment_done=1 AND pet_type IS NOT null\")\n",
    "for row in rows:\n",
    "    print(row)"
   ]
  },
  {
   "cell_type": "markdown",
   "metadata": {},
   "source": [
    "Step 8: How many pets are there from the city called east port"
   ]
  },
  {
   "cell_type": "code",
   "execution_count": 26,
   "metadata": {},
   "outputs": [
    {
     "name": "stdout",
     "output_type": "stream",
     "text": [
      "(49,)\n"
     ]
    }
   ],
   "source": [
    "rows = cursor.execute(\"SELECT count(*) FROM pets JOIN persons ON pets.owner_id = persons.id WHERE persons.city='east port'\")\n",
    "for row in rows:\n",
    "    print(row)"
   ]
  },
  {
   "cell_type": "markdown",
   "metadata": {},
   "source": [
    "Step 9. How many pets are there from the city called east port and who received a treatment"
   ]
  },
  {
   "cell_type": "code",
   "execution_count": 27,
   "metadata": {},
   "outputs": [
    {
     "name": "stdout",
     "output_type": "stream",
     "text": [
      "(11,)\n"
     ]
    }
   ],
   "source": [
    "rows = cursor.execute(\"SELECT count(*) FROM pets JOIN persons ON pets.owner_id = persons.id WHERE persons.city='east port' AND pets.treatment_done=1\")\n",
    "for row in rows:\n",
    "    print(row)"
   ]
  },
  {
   "cell_type": "code",
   "execution_count": null,
   "metadata": {},
   "outputs": [],
   "source": []
  }
 ],
 "metadata": {
  "kernelspec": {
   "display_name": "Python 3",
   "language": "python",
   "name": "python3"
  },
  "language_info": {
   "codemirror_mode": {
    "name": "ipython",
    "version": 3
   },
   "file_extension": ".py",
   "mimetype": "text/x-python",
   "name": "python",
   "nbconvert_exporter": "python",
   "pygments_lexer": "ipython3",
   "version": "3.8.5"
  }
 },
 "nbformat": 4,
 "nbformat_minor": 4
}
